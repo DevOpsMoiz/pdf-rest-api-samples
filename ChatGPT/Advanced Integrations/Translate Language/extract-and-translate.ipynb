{
 "cells": [
  {
   "cell_type": "markdown",
   "id": "e3eff3487fe37454",
   "metadata": {
    "collapsed": false
   },
   "source": [
    "# Translate extracted text\n",
    "\n",
    "This is an example of translating extracted text from a PDF file, using pdfRest and OpenAI.\n",
    "\n",
    "## Environment\n",
    "\n",
    "To run this notebook, make sure to set up an environment running Jupyter. One way to do that is to create a Python environment and activate it:\n",
    "\n",
    "```\n",
    "python -m venv .venv\n",
    ". ./.venv/bin/activate\n",
    "```\n",
    "\n",
    "Then install Jupyter.\n",
    "\n",
    "```\n",
    "python -m pip install jupyter\n",
    "```\n",
    "\n",
    "You'll also need to install the other Python packages required by these sample notebooks. Those are in a file called `requirements.txt`, stored with this sample.\n",
    "\n",
    "```\n",
    "python -m pip install -r requirements.txt\n",
    "```\n",
    "\n",
    "Run Jupyter, opening this notebook.\n",
    "\n",
    "```\n",
    "jupyter notebook extract-and-translate.ipynb\n",
    "```\n",
    "\n",
    "\n",
    "## API keys\n",
    "\n",
    "You'll need to get some API keys in order to use this example. \n",
    "\n",
    "- [pdfRest Get Started](https://pdfrest.com/getstarted/)\n",
    "- [OpenAI Sign Up](https://platform.openai.com/signup?launch)\n",
    "\n",
    "Create a file called `.env` in the same directory as this notebook, and places the keys into it, like this:\n",
    "\n",
    "```\n",
    "OPENAI_API_KEY=sk-xxxxxxxxxxxxxxxxxxxxxxxxxxxxxxxxxxxxxxxxxxxxxxxx\n",
    "PDFREST_API_KEY=xxxxxxxx-xxxx-xxxx-xxxx-xxxxxxxxxxxx\n",
    "```\n",
    "\n",
    "First, we will start by importing some Python modules that we need, and acquiring API keys."
   ]
  },
  {
   "cell_type": "code",
   "execution_count": 1,
   "id": "initial_id",
   "metadata": {
    "ExecuteTime": {
     "end_time": "2023-10-30T20:34:43.329067Z",
     "start_time": "2023-10-30T20:34:43.038515Z"
    }
   },
   "outputs": [],
   "source": [
    "import os\n",
    "from pathlib import Path\n",
    "\n",
    "import openai\n",
    "import requests\n",
    "from dotenv import load_dotenv\n",
    "from IPython.display import display_markdown\n",
    "from requests_toolbelt import MultipartEncoder\n",
    "\n",
    "load_dotenv()\n",
    "\n",
    "openai.api_key = os.getenv(\"OPENAI_API_KEY\")\n",
    "pdfrest_api_key = os.getenv(\"PDFREST_API_KEY\")\n",
    "\n",
    "REQUEST_TIMEOUT = 30"
   ]
  },
  {
   "cell_type": "markdown",
   "id": "9882898460f23d70",
   "metadata": {
    "collapsed": false
   },
   "source": [
    "## Extracting the text\n",
    "\n",
    "Below, we'll define a function that extracts the text from a PDF document represented by a path on disk. It will get the full text by page, returning the JSON data from the endpoint."
   ]
  },
  {
   "cell_type": "code",
   "execution_count": 2,
   "id": "ae86f0335be1e195",
   "metadata": {
    "collapsed": false,
    "ExecuteTime": {
     "end_time": "2023-10-30T20:34:43.338660Z",
     "start_time": "2023-10-30T20:34:43.332339Z"
    }
   },
   "outputs": [],
   "source": [
    "def extract_text(document: Path) -> dict:\n",
    "    \"\"\"Extract text on a page-by-page basis from a document, and\n",
    "    return the extracted text\"\"\"\n",
    "\n",
    "    extract_endpoint_url = \"https://api.pdfrest.com/extracted-text\"\n",
    "\n",
    "    # Define the file to upload, and request full text on a per-page basis\n",
    "    request_data = [\n",
    "        (\"file\", (document.name, document.open(mode=\"rb\"), \"application/pdf\")),\n",
    "        (\"full_text\", \"by_page\"),\n",
    "    ]\n",
    "\n",
    "    mp_encoder_upload = MultipartEncoder(fields=request_data)\n",
    "\n",
    "    # Let's set the headers that the upload endpoint expects.\n",
    "    # Since MultipartEncoder is used, the 'Content-Type' header gets set to\n",
    "    # 'multipart/form-data' via the content_type attribute below.\n",
    "    headers = {\n",
    "        \"Accept\": \"application/json\",\n",
    "        \"Content-Type\": mp_encoder_upload.content_type,\n",
    "        \"Api-Key\": pdfrest_api_key,\n",
    "    }\n",
    "\n",
    "    print(\"Sending POST request to extract text endpoint...\")\n",
    "    response = requests.post(\n",
    "        extract_endpoint_url,\n",
    "        data=mp_encoder_upload,\n",
    "        headers=headers,\n",
    "        timeout=REQUEST_TIMEOUT,\n",
    "    )\n",
    "\n",
    "    # Print the response status code and raise an exception if the request fails\n",
    "    print(\"Response status code: \" + str(response.status_code))\n",
    "    response.raise_for_status()\n",
    "\n",
    "    return response.json()"
   ]
  },
  {
   "cell_type": "markdown",
   "id": "73357d14ebed2d2d",
   "metadata": {
    "collapsed": false
   },
   "source": [
    "## TranslationChatbot\n",
    "\n",
    "Let's define a chatbot whose main purpose is translation. This is a Python class, which makes a persistent object that can be used for a continuing conversation.\n",
    "\n",
    "We start with a system instruction. The system instruction indicates to OpenAI what the purpose of the conversation is, what role it should take, and any additional instructions.\n",
    "\n",
    "When translating, we also prepend the material to be translated with an instruction to translate to English.\n",
    "\n",
    "Each interaction is recorded in `self.messages`, which contains content and a role:\n",
    "\n",
    "- `system` means that the content is a system instruction. System instructions are usually present at the start of a conversation, but are typically not presented to the user, for instance, in ChatGPT.\n",
    "- `user` means that the content is part of the conversation that was uttered by the user.\n",
    "- `assistant` means that the content is a reply from the AI.\n",
    "\n",
    "This class makes it easy to have a conversation with GPT-4. We call `translate_text()` to supply text to be translated, and `chat()` if we want to continue the conversation."
   ]
  },
  {
   "cell_type": "code",
   "execution_count": 3,
   "id": "767daa1177b2f942",
   "metadata": {
    "collapsed": false,
    "ExecuteTime": {
     "end_time": "2023-10-30T20:34:43.347460Z",
     "start_time": "2023-10-30T20:34:43.343528Z"
    }
   },
   "outputs": [],
   "source": [
    "class TranslationChatbot:\n",
    "    \"\"\"A chatbot that specializes in translation, but can have a continuing conversation.\"\"\"\n",
    "\n",
    "    SYSTEM_INSTRUCTION = \"\"\"\n",
    "    You are a helpful translator. Given an input text, translate\n",
    "    it to the requested language. If there are any ambiguities,\n",
    "    or things that couldn't be translated, please\n",
    "    mention them after the translation.\n",
    "\n",
    "    The output can use Markdown for formatting.\n",
    "    \"\"\"\n",
    "\n",
    "    TRANSLATION_INSTRUCTION = \"\"\"\n",
    "    Please translate the following to English:\n",
    "\n",
    "    \"\"\"\n",
    "\n",
    "    def __init__(self):\n",
    "        self.messages = [\n",
    "            {\"content\": self.SYSTEM_INSTRUCTION, \"role\": \"system\"},\n",
    "        ]\n",
    "\n",
    "    def get_openai_response(self, new_message):\n",
    "        \"\"\"Request chat completion from OpenAI, and update the messages with the reply. Returns the response from OpenAI.\"\"\"\n",
    "        self.messages.append(new_message)\n",
    "        response = openai.ChatCompletion.create(\n",
    "            model=\"gpt-4\",\n",
    "            temperature=0,\n",
    "            messages=self.messages,\n",
    "        )\n",
    "        message = response[\"choices\"][0][\"message\"]\n",
    "        self.messages.append(message)\n",
    "        return response\n",
    "\n",
    "    def translate_text(self, text: str) -> str:\n",
    "        \"\"\"Translate text, and return OpenAI's reply.\"\"\"\n",
    "\n",
    "        response = self.get_openai_response(\n",
    "            {\"content\": f\"{self.TRANSLATION_INSTRUCTION}{text}\", \"role\": \"user\"}\n",
    "        )\n",
    "        message = response[\"choices\"][0][\"message\"]\n",
    "        return message[\"content\"]\n",
    "\n",
    "    def converse(self, text: str) -> str:\n",
    "        \"\"\"Add a message to the conversation, and return OpenAI's reply.\"\"\"\n",
    "        response = self.get_openai_response({\"content\": text, \"role\": \"user\"})\n",
    "        message = response[\"choices\"][0][\"message\"]\n",
    "        return message[\"content\"]\n",
    "\n",
    "    def chat(self, text: str) -> str:\n",
    "        \"\"\"A simple method for chatting. OpenAI returns results formatted with Markdown,\n",
    "        and may contain text styling and lists.\"\"\"\n",
    "        display_markdown(self.converse(text), raw=True)"
   ]
  },
  {
   "cell_type": "markdown",
   "id": "c3afa379e92e9b37",
   "metadata": {
    "collapsed": false
   },
   "source": [
    "## Extract the text\n",
    "\n",
    "Here, we simply call `extract_text()` with the path to the input document. In this case, the PDF file contains Article 1 of the [Universal Declaration of Human Rights](https://www.ohchr.org/en/human-rights/universal-declaration/), in Greek.\n",
    "\n",
    "After that, we get the text of the first page. As you can see from the code, the `fullText` dictionary contains an array `pages` which contains each page. The code gets the first page, indexed by `0`, and retrieves the `text` from it."
   ]
  },
  {
   "cell_type": "code",
   "execution_count": 4,
   "id": "7ba1c2806ed931cf",
   "metadata": {
    "collapsed": false,
    "ExecuteTime": {
     "end_time": "2023-10-30T20:34:44.065537Z",
     "start_time": "2023-10-30T20:34:43.348213Z"
    }
   },
   "outputs": [
    {
     "name": "stdout",
     "output_type": "stream",
     "text": [
      "Sending POST request to extract text endpoint...\n",
      "Response status code: 200\n"
     ]
    }
   ],
   "source": [
    "extracted_text = extract_text(Path(\"pdf/UDHR_Article_1_Greek.pdf\"))\n",
    "page_1_text = extracted_text[\"fullText\"][\"pages\"][0][\"text\"]"
   ]
  },
  {
   "cell_type": "markdown",
   "id": "7fb331f4c047da22",
   "metadata": {
    "collapsed": false
   },
   "source": [
    "\n",
    "## Using the TranslationChatbot\n",
    "\n",
    "Create a `TranslationChatbot`. Use it to translate the text, and ask it to translate the text of the page. \n",
    "\n",
    "The chatbot retains the history of the conversation, so that we can make further inquiries about the text that was translated.\n",
    "\n",
    "Since this code is running in the context of a Jupyter notebook, we use `display_markdown()` to print output with style attached. GPT-4 also provides Markdown formatted content, so if the response has any lists or tables in it, they will render nicely."
   ]
  },
  {
   "cell_type": "code",
   "execution_count": 9,
   "id": "f05bc6af1d6f04a",
   "metadata": {
    "collapsed": false,
    "ExecuteTime": {
     "end_time": "2023-10-30T20:36:24.448339Z",
     "start_time": "2023-10-30T20:36:19.886747Z"
    }
   },
   "outputs": [
    {
     "data": {
      "text/markdown": "**Text before translation:** ΑΡΘΡΟ 1 ' Ολοι οι άνθρωποι γεννιούνται ελεύθεροι και ίσοι στην αξιοπρέπεια και τα δικαιώματα. Είναι προικισμένοι με λογική και συνείδηση, και οφείλουν να συμπεριφέρονται μεταξύ τους με πνεύμα αδελφοσύνης."
     },
     "metadata": {},
     "output_type": "display_data"
    },
    {
     "data": {
      "text/markdown": "**Text after translation:** ARTICLE 1: All human beings are born free and equal in dignity and rights. They are endowed with reason and conscience and should act towards one another in a spirit of brotherhood."
     },
     "metadata": {},
     "output_type": "display_data"
    }
   ],
   "source": [
    "chatbot = TranslationChatbot()\n",
    "display_markdown(f\"**Text before translation:** {page_1_text}\", raw=True)\n",
    "translated_text = chatbot.translate_text(page_1_text)\n",
    "display_markdown(f\"**Text after translation:** {translated_text}\", raw=True)"
   ]
  },
  {
   "cell_type": "markdown",
   "id": "cb36888711716303",
   "metadata": {
    "collapsed": false
   },
   "source": [
    "## Making additional queries about the text\n",
    "\n",
    "Using the `chatbot.chat()` method, we can interact further with the chatbot about the translation. For instance, we can ask about the sentiment of the text."
   ]
  },
  {
   "cell_type": "code",
   "execution_count": 10,
   "id": "ddccc909d0924401",
   "metadata": {
    "collapsed": false,
    "ExecuteTime": {
     "end_time": "2023-10-30T20:36:44.649085Z",
     "start_time": "2023-10-30T20:36:35.843271Z"
    }
   },
   "outputs": [
    {
     "data": {
      "text/markdown": "The sentiment of the translated text is one of universal equality, dignity, and fraternity. It emphasizes the inherent freedom, equality, and rights that every human being is born with. The text also underscores the importance of reason and conscience in human behavior, advocating for a spirit of brotherhood among all people. This might invoke feelings of unity, respect, and mutual understanding. It could also inspire a sense of responsibility towards treating others with dignity and fairness."
     },
     "metadata": {},
     "output_type": "display_data"
    }
   ],
   "source": [
    "chatbot.chat(\n",
    "    \"Can you summarize the sentiment of the translated text? What kind of feelings might it invoke?\"\n",
    ")"
   ]
  }
 ],
 "metadata": {
  "kernelspec": {
   "display_name": "Python 3 (ipykernel)",
   "language": "python",
   "name": "python3"
  },
  "language_info": {
   "codemirror_mode": {
    "name": "ipython",
    "version": 3
   },
   "file_extension": ".py",
   "mimetype": "text/x-python",
   "name": "python",
   "nbconvert_exporter": "python",
   "pygments_lexer": "ipython3",
   "version": "3.11.2"
  }
 },
 "nbformat": 4,
 "nbformat_minor": 5
}
